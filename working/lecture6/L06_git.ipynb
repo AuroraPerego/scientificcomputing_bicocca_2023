{
 "cells": [
  {
   "cell_type": "markdown",
   "metadata": {},
   "source": [
    "# Exercises\n",
    "\n",
    "For the exam please work on at least 2 of these exercises\n",
    "\n",
    "## Q1: Your next research project.\n",
    "\n",
    "Pick the directory of your current research project (your next paper!) and put it under version control."
   ]
  },
  {
   "cell_type": "markdown",
   "metadata": {},
   "source": [
    "I have under version control some of the scripts / notebooks I use to analyze and plot data: [here](https://github.com/AuroraPerego/Timing) and [here](https://github.com/AuroraPerego/Utils/tree/candidates)\n",
    "\n",
    "[My current research project](https://github.com/AuroraPerego/cmssw/tree/ticlv5_14_0_0_pre0_timing) is in a big repo: CMSSW, the software used to simulate, reconstruct and analyze collisions at the Compact Muon Solenoid (CMS) experiment.\n",
    "\n",
    "bonus: [A conference poster in digital format](https://github.com/AuroraPerego/AuroraPerego.github.io) ([website](https://auroraperego.github.io/acat2022.html))\n"
   ]
  },
  {
   "cell_type": "markdown",
   "metadata": {},
   "source": [
    "## Q4: You're wrong\n",
    "\n",
    "Find a bug/typo in the material of this course, fix it, and send me a pull request."
   ]
  },
  {
   "cell_type": "markdown",
   "metadata": {},
   "source": [
    "https://github.com/dgerosa/scientificcomputing_bicocca_2023/pull/3"
   ]
  }
 ],
 "metadata": {
  "kernelspec": {
   "display_name": "Python 3 (ipykernel)",
   "language": "python",
   "name": "python3"
  },
  "language_info": {
   "codemirror_mode": {
    "name": "ipython",
    "version": 3
   },
   "file_extension": ".py",
   "mimetype": "text/x-python",
   "name": "python",
   "nbconvert_exporter": "python",
   "pygments_lexer": "ipython3",
   "version": "3.11.4"
  }
 },
 "nbformat": 4,
 "nbformat_minor": 4
}
