{
 "cells": [
  {
   "cell_type": "markdown",
   "metadata": {},
   "source": [
    "## Q1: Machine precision\n",
    "\n",
    "When talking about floating point, we discussed _machine epsilon_, $\\epsilon$&mdash;this is the smallest number that when added to 1 is still different from 1.\n",
    "\n",
    "We'll compute $\\epsilon$ here:\n",
    "\n",
    "  * Pick an initial guess for $\\epsilon$ of `eps = 1`.  \n",
    "\n",
    "  * Create a loop that checks whether `1 + eps` is different from `1`\n",
    "  \n",
    "  * Each loop iteration, cut the value of `eps` in half\n",
    "  \n",
    "What value of $\\epsilon$ do you find?\n",
    "\n"
   ]
  },
  {
   "cell_type": "code",
   "execution_count": 20,
   "metadata": {},
   "outputs": [
    {
     "name": "stdout",
     "output_type": "stream",
     "text": [
      "The value of ε is 1.1102230246251565e-16\n"
     ]
    }
   ],
   "source": [
    "eps = 1\n",
    "while eps + 1 != 1:\n",
    "  eps /=2\n",
    "\n",
    "print(f\"The value of \\u03B5 is {eps}\")"
   ]
  },
  {
   "cell_type": "markdown",
   "metadata": {},
   "source": [
    "## Q2: Iterations\n",
    "\n",
    "### Part 1\n",
    "\n",
    "To iterate over the tuples, where the _i_-th tuple contains the _i_-th elements of certain sequences, we can use `zip(*sequences)` function.\n",
    "\n",
    "We will iterate over two lists, `names` and `age`, and print out the resulting tuples.\n",
    "\n",
    "  * Start by initializing lists `names = [\"Mary\", \"John\", \"Sarah\"]` and `age = [21, 56, 98]`.\n",
    "  \n",
    "  * Iterate over the tuples containing a name and an age, the `zip(list1, list2)` function might be useful here.\n",
    "  \n",
    "  * Print out formatted strings of the type \"*NAME is AGE years old*\".\n",
    "  \n",
    "\n",
    "### Part 2\n",
    "\n",
    "The function `enumerate(sequence)` returns tuples containing indices of objects in the sequence, and the objects. \n",
    "\n",
    "The `random` module provides tools for working with the random numbers. In particular, `random.randint(start, end)` generates a random number not smaller than `start`, and not bigger than `end`.\n",
    "\n",
    "  * Generate a list of 10 random numbers from 0 to 9.\n",
    "  \n",
    "  * Using the `enumerate(random_list)` function, iterate over the tuples of random numbers and their indices, and print out *\"Match: NUMBER and INDEX\"* if the random number and its index in the list match."
   ]
  },
  {
   "cell_type": "code",
   "execution_count": 21,
   "metadata": {},
   "outputs": [
    {
     "name": "stdout",
     "output_type": "stream",
     "text": [
      "Mary is 21 years old\n",
      "John is 56 years old\n",
      "Sarah is 98 years old\n"
     ]
    }
   ],
   "source": [
    "# PART 1\n",
    "\n",
    "names = [\"Mary\", \"John\", \"Sarah\"]\n",
    "ages = [21, 56, 98]\n",
    "\n",
    "for name, age in zip(names, ages):\n",
    "  print(f\"{name} is {age} years old\")\n",
    "\n",
    "# PART 2\n",
    "from random import randint\n",
    "\n",
    "random_list = [randint(0,9) for i in range(10)]\n",
    "# print(random_list)\n",
    "\n",
    "for i, r in enumerate(random_list):\n",
    "  if i == r:\n",
    "    print(\"Match: NUMBER and INDEX\")\n"
   ]
  },
  {
   "cell_type": "markdown",
   "metadata": {},
   "source": [
    "## Q3: Books\n",
    "\n",
    "Here is a list of book titles (from http://thegreatestbooks.org).  Loop through the list and capitalize each word in each title. "
   ]
  },
  {
   "cell_type": "code",
   "execution_count": 22,
   "metadata": {},
   "outputs": [],
   "source": [
    "titles = [\"don quixote\", \n",
    "          \"in search of lost time\", \n",
    "          \"ulysses\", \n",
    "          \"the odyssey\", \n",
    "          \"war and piece\", \n",
    "          \"moby dick\", \n",
    "          \"the divine comedy\", \n",
    "          \"hamlet\", \n",
    "          \"the adventures of huckleberry finn\", \n",
    "          \"the great gatsby\"]"
   ]
  },
  {
   "cell_type": "code",
   "execution_count": 23,
   "metadata": {},
   "outputs": [
    {
     "name": "stdout",
     "output_type": "stream",
     "text": [
      "['Don Quixote', 'In Search Of Lost Time', 'Ulysses', 'The Odyssey', 'War And Piece', 'Moby Dick', 'The Divine Comedy', 'Hamlet', 'The Adventures Of Huckleberry Finn', 'The Great Gatsby']\n"
     ]
    }
   ],
   "source": [
    "for i, title in enumerate(titles):\n",
    "  words = title.split(\" \")\n",
    "  new = \"\"\n",
    "  for w in words:\n",
    "    new += w.capitalize()\n",
    "    if w != words[-1]:\n",
    "      new += \" \"\n",
    "  titles[i] = new\n",
    "\n",
    "print(titles)"
   ]
  },
  {
   "cell_type": "markdown",
   "metadata": {},
   "source": [
    "## Q4: Word counts\n",
    "\n",
    "Here's some text (the Gettysburg Address).  Our goal is to count how many times each word repeats.  We'll do a brute force method first, and then we'll look a ways to do it more efficiently (and compactly)."
   ]
  },
  {
   "cell_type": "code",
   "execution_count": 24,
   "metadata": {},
   "outputs": [],
   "source": [
    "gettysburg_address = \"\"\"\n",
    "Four score and seven years ago our fathers brought forth on this continent, \n",
    "a new nation, conceived in Liberty, and dedicated to the proposition that \n",
    "all men are created equal.\n",
    "\n",
    "Now we are engaged in a great civil war, testing whether that nation, or \n",
    "any nation so conceived and so dedicated, can long endure. We are met on\n",
    "a great battle-field of that war. We have come to dedicate a portion of\n",
    "that field, as a final resting place for those who here gave their lives\n",
    "that that nation might live. It is altogether fitting and proper that we\n",
    "should do this.\n",
    "\n",
    "But, in a larger sense, we can not dedicate -- we can not consecrate -- we\n",
    "can not hallow -- this ground. The brave men, living and dead, who struggled\n",
    "here, have consecrated it, far above our poor power to add or detract.  The\n",
    "world will little note, nor long remember what we say here, but it can never\n",
    "forget what they did here. It is for us the living, rather, to be dedicated\n",
    "here to the unfinished work which they who fought here have thus far so nobly\n",
    "advanced. It is rather for us to be here dedicated to the great task remaining\n",
    "before us -- that from these honored dead we take increased devotion to that\n",
    "cause for which they gave the last full measure of devotion -- that we here\n",
    "highly resolve that these dead shall not have died in vain -- that this\n",
    "nation, under God, shall have a new birth of freedom -- and that government\n",
    "of the people, by the people, for the people, shall not perish from the earth.\n",
    "\"\"\""
   ]
  },
  {
   "cell_type": "markdown",
   "metadata": {},
   "source": [
    "We've already seen the `.split()` method will, by default, split by spaces, so it will split this into words, producing a list:"
   ]
  },
  {
   "cell_type": "code",
   "execution_count": 25,
   "metadata": {},
   "outputs": [],
   "source": [
    "ga = gettysburg_address.split()"
   ]
  },
  {
   "cell_type": "code",
   "execution_count": 26,
   "metadata": {},
   "outputs": [
    {
     "data": {
      "text/plain": [
       "['Four',\n",
       " 'score',\n",
       " 'and',\n",
       " 'seven',\n",
       " 'years',\n",
       " 'ago',\n",
       " 'our',\n",
       " 'fathers',\n",
       " 'brought',\n",
       " 'forth',\n",
       " 'on',\n",
       " 'this',\n",
       " 'continent,',\n",
       " 'a',\n",
       " 'new',\n",
       " 'nation,',\n",
       " 'conceived',\n",
       " 'in',\n",
       " 'Liberty,',\n",
       " 'and',\n",
       " 'dedicated',\n",
       " 'to',\n",
       " 'the',\n",
       " 'proposition',\n",
       " 'that',\n",
       " 'all',\n",
       " 'men',\n",
       " 'are',\n",
       " 'created',\n",
       " 'equal.',\n",
       " 'Now',\n",
       " 'we',\n",
       " 'are',\n",
       " 'engaged',\n",
       " 'in',\n",
       " 'a',\n",
       " 'great',\n",
       " 'civil',\n",
       " 'war,',\n",
       " 'testing',\n",
       " 'whether',\n",
       " 'that',\n",
       " 'nation,',\n",
       " 'or',\n",
       " 'any',\n",
       " 'nation',\n",
       " 'so',\n",
       " 'conceived',\n",
       " 'and',\n",
       " 'so',\n",
       " 'dedicated,',\n",
       " 'can',\n",
       " 'long',\n",
       " 'endure.',\n",
       " 'We',\n",
       " 'are',\n",
       " 'met',\n",
       " 'on',\n",
       " 'a',\n",
       " 'great',\n",
       " 'battle-field',\n",
       " 'of',\n",
       " 'that',\n",
       " 'war.',\n",
       " 'We',\n",
       " 'have',\n",
       " 'come',\n",
       " 'to',\n",
       " 'dedicate',\n",
       " 'a',\n",
       " 'portion',\n",
       " 'of',\n",
       " 'that',\n",
       " 'field,',\n",
       " 'as',\n",
       " 'a',\n",
       " 'final',\n",
       " 'resting',\n",
       " 'place',\n",
       " 'for',\n",
       " 'those',\n",
       " 'who',\n",
       " 'here',\n",
       " 'gave',\n",
       " 'their',\n",
       " 'lives',\n",
       " 'that',\n",
       " 'that',\n",
       " 'nation',\n",
       " 'might',\n",
       " 'live.',\n",
       " 'It',\n",
       " 'is',\n",
       " 'altogether',\n",
       " 'fitting',\n",
       " 'and',\n",
       " 'proper',\n",
       " 'that',\n",
       " 'we',\n",
       " 'should',\n",
       " 'do',\n",
       " 'this.',\n",
       " 'But,',\n",
       " 'in',\n",
       " 'a',\n",
       " 'larger',\n",
       " 'sense,',\n",
       " 'we',\n",
       " 'can',\n",
       " 'not',\n",
       " 'dedicate',\n",
       " '--',\n",
       " 'we',\n",
       " 'can',\n",
       " 'not',\n",
       " 'consecrate',\n",
       " '--',\n",
       " 'we',\n",
       " 'can',\n",
       " 'not',\n",
       " 'hallow',\n",
       " '--',\n",
       " 'this',\n",
       " 'ground.',\n",
       " 'The',\n",
       " 'brave',\n",
       " 'men,',\n",
       " 'living',\n",
       " 'and',\n",
       " 'dead,',\n",
       " 'who',\n",
       " 'struggled',\n",
       " 'here,',\n",
       " 'have',\n",
       " 'consecrated',\n",
       " 'it,',\n",
       " 'far',\n",
       " 'above',\n",
       " 'our',\n",
       " 'poor',\n",
       " 'power',\n",
       " 'to',\n",
       " 'add',\n",
       " 'or',\n",
       " 'detract.',\n",
       " 'The',\n",
       " 'world',\n",
       " 'will',\n",
       " 'little',\n",
       " 'note,',\n",
       " 'nor',\n",
       " 'long',\n",
       " 'remember',\n",
       " 'what',\n",
       " 'we',\n",
       " 'say',\n",
       " 'here,',\n",
       " 'but',\n",
       " 'it',\n",
       " 'can',\n",
       " 'never',\n",
       " 'forget',\n",
       " 'what',\n",
       " 'they',\n",
       " 'did',\n",
       " 'here.',\n",
       " 'It',\n",
       " 'is',\n",
       " 'for',\n",
       " 'us',\n",
       " 'the',\n",
       " 'living,',\n",
       " 'rather,',\n",
       " 'to',\n",
       " 'be',\n",
       " 'dedicated',\n",
       " 'here',\n",
       " 'to',\n",
       " 'the',\n",
       " 'unfinished',\n",
       " 'work',\n",
       " 'which',\n",
       " 'they',\n",
       " 'who',\n",
       " 'fought',\n",
       " 'here',\n",
       " 'have',\n",
       " 'thus',\n",
       " 'far',\n",
       " 'so',\n",
       " 'nobly',\n",
       " 'advanced.',\n",
       " 'It',\n",
       " 'is',\n",
       " 'rather',\n",
       " 'for',\n",
       " 'us',\n",
       " 'to',\n",
       " 'be',\n",
       " 'here',\n",
       " 'dedicated',\n",
       " 'to',\n",
       " 'the',\n",
       " 'great',\n",
       " 'task',\n",
       " 'remaining',\n",
       " 'before',\n",
       " 'us',\n",
       " '--',\n",
       " 'that',\n",
       " 'from',\n",
       " 'these',\n",
       " 'honored',\n",
       " 'dead',\n",
       " 'we',\n",
       " 'take',\n",
       " 'increased',\n",
       " 'devotion',\n",
       " 'to',\n",
       " 'that',\n",
       " 'cause',\n",
       " 'for',\n",
       " 'which',\n",
       " 'they',\n",
       " 'gave',\n",
       " 'the',\n",
       " 'last',\n",
       " 'full',\n",
       " 'measure',\n",
       " 'of',\n",
       " 'devotion',\n",
       " '--',\n",
       " 'that',\n",
       " 'we',\n",
       " 'here',\n",
       " 'highly',\n",
       " 'resolve',\n",
       " 'that',\n",
       " 'these',\n",
       " 'dead',\n",
       " 'shall',\n",
       " 'not',\n",
       " 'have',\n",
       " 'died',\n",
       " 'in',\n",
       " 'vain',\n",
       " '--',\n",
       " 'that',\n",
       " 'this',\n",
       " 'nation,',\n",
       " 'under',\n",
       " 'God,',\n",
       " 'shall',\n",
       " 'have',\n",
       " 'a',\n",
       " 'new',\n",
       " 'birth',\n",
       " 'of',\n",
       " 'freedom',\n",
       " '--',\n",
       " 'and',\n",
       " 'that',\n",
       " 'government',\n",
       " 'of',\n",
       " 'the',\n",
       " 'people,',\n",
       " 'by',\n",
       " 'the',\n",
       " 'people,',\n",
       " 'for',\n",
       " 'the',\n",
       " 'people,',\n",
       " 'shall',\n",
       " 'not',\n",
       " 'perish',\n",
       " 'from',\n",
       " 'the',\n",
       " 'earth.']"
      ]
     },
     "execution_count": 26,
     "metadata": {},
     "output_type": "execute_result"
    }
   ],
   "source": [
    "ga"
   ]
  },
  {
   "cell_type": "markdown",
   "metadata": {},
   "source": [
    "Now, the next problem is that some of these still have punctuation.  In particular, we see \"`.`\", \"`,`\", and \"`--`\".\n",
    "\n",
    "When considering a word, we can get rid of these by using the `replace()` method:"
   ]
  },
  {
   "cell_type": "code",
   "execution_count": 27,
   "metadata": {},
   "outputs": [
    {
     "data": {
      "text/plain": [
       "'end'"
      ]
     },
     "execution_count": 27,
     "metadata": {},
     "output_type": "execute_result"
    }
   ],
   "source": [
    "a = \"end.,\"\n",
    "b = a.replace(\".\", \"\").replace(\",\", \"\")\n",
    "b"
   ]
  },
  {
   "cell_type": "markdown",
   "metadata": {},
   "source": [
    "Another problem is case&mdash;we want to count \"but\" and \"But\" as the same.  Strings have a `lower()` method that can be used to convert a string:"
   ]
  },
  {
   "cell_type": "code",
   "execution_count": 28,
   "metadata": {},
   "outputs": [
    {
     "data": {
      "text/plain": [
       "False"
      ]
     },
     "execution_count": 28,
     "metadata": {},
     "output_type": "execute_result"
    }
   ],
   "source": [
    "a = \"But\"\n",
    "b = \"but\"\n",
    "a == b"
   ]
  },
  {
   "cell_type": "code",
   "execution_count": 29,
   "metadata": {},
   "outputs": [
    {
     "data": {
      "text/plain": [
       "True"
      ]
     },
     "execution_count": 29,
     "metadata": {},
     "output_type": "execute_result"
    }
   ],
   "source": [
    "a.lower() == b.lower()"
   ]
  },
  {
   "cell_type": "markdown",
   "metadata": {},
   "source": [
    "Recall that strings are immutable, so `replace()` produces a new string on output."
   ]
  },
  {
   "cell_type": "markdown",
   "metadata": {},
   "source": [
    "### Your task\n",
    "\n",
    "Create a dictionary that uses the unique words as keys and has as a value the number of times that word appears.  \n",
    "\n",
    "Write a loop over the words in the string (using our split version) and do the following:\n",
    "  * remove any punctuation\n",
    "  * convert to lowercase\n",
    "  * test if the word is already a key in the dictionary (using the `in` operator)\n",
    "     - if the key exists, increment the word count for that key\n",
    "     - otherwise, add it to the dictionary with the appropriate count of `1`.\n",
    "\n",
    "At the end, print out the words and a count of how many times they appear"
   ]
  },
  {
   "cell_type": "code",
   "execution_count": 30,
   "metadata": {},
   "outputs": [
    {
     "name": "stdout",
     "output_type": "stream",
     "text": [
      "{'gave': 2, 'consecrate': 1, 'what': 2, 'do': 1, 'birth': 1, 'little': 1, 'years': 1, 'measure': 1, 'we': 10, 'is': 3, 'civil': 1, 'god': 1, 'fought': 1, 'live': 1, 'continent': 1, 'poor': 1, 'shall': 3, 'place': 1, 'proper': 1, 'a': 7, 'they': 3, 'so': 3, 'remember': 1, 'above': 1, 'now': 1, 'by': 1, 'on': 2, 'power': 1, 'from': 2, 'hallow': 1, 'larger': 1, 'world': 1, 'highly': 1, 'battle-field': 1, 'did': 1, 'unfinished': 1, 'resting': 1, 'take': 1, 'their': 1, 'engaged': 1, 'dedicated': 4, 'final': 1, 'altogether': 1, 'liberty': 1, 'thus': 1, 'died': 1, 'met': 1, 'earth': 1, 'war': 2, 'that': 13, 'whether': 1, 'us': 3, 'nobly': 1, 'will': 1, 'forth': 1, 'freedom': 1, 'should': 1, 'living': 2, 'under': 1, 'four': 1, 'note': 1, 'here': 8, 'any': 1, 'before': 1, 'honored': 1, 'field': 1, 'forget': 1, 'in': 4, 'who': 3, 'for': 5, 'or': 2, 'nation': 5, 'fathers': 1, 'the': 11, 'these': 2, 'men': 2, 'say': 1, 'never': 1, 'all': 1, 'this': 4, 'those': 1, 'conceived': 2, 'testing': 1, 'created': 1, 'of': 5, 'which': 2, 'vain': 1, 'detract': 1, 'rather': 2, 'score': 1, 'struggled': 1, 'resolve': 1, 'people': 3, 'to': 8, 'brought': 1, 'ground': 1, 'but': 2, 'remaining': 1, 'full': 1, 'last': 1, 'come': 1, 'long': 2, 'far': 2, 'dead': 3, 'consecrated': 1, 'devotion': 2, 'dedicate': 2, 'advanced': 1, 'government': 1, 'be': 2, 'and': 6, 'can': 5, 'new': 2, 'lives': 1, 'it': 5, 'great': 3, 'work': 1, 'equal': 1, 'as': 1, 'increased': 1, 'perish': 1, 'brave': 1, 'seven': 1, 'not': 5, 'are': 3, 'our': 2, 'cause': 1, 'task': 1, 'add': 1, 'nor': 1, 'portion': 1, 'fitting': 1, 'might': 1, 'proposition': 1, 'sense': 1, 'ago': 1, 'have': 5, 'endure': 1}\n"
     ]
    }
   ],
   "source": [
    "gettysburg_address = gettysburg_address.replace(\",\",\" \").replace(\".\",\" \").replace(\"\\n\",\" \").replace(\" -- \",\" \").lower()\n",
    "words = gettysburg_address.split(\" \")\n",
    "words = list(filter(None, words))\n",
    "\n",
    "#print(words)\n",
    "\n",
    "words_dict = dict()\n",
    "for w in words:\n",
    "  if w in words_dict.keys():\n",
    "    words_dict[w] += 1\n",
    "  else:\n",
    "    words_dict[w] = 1\n",
    "\n",
    "# print(words_dict)\n",
    "\n",
    "unique_words = set(words)\n",
    "count = {}\n",
    "for uw in unique_words:\n",
    "    count[uw] = words.count(uw)\n",
    "    \n",
    "# print(count)\n",
    "c = {uw: words.count(uw) for uw in unique_words}\n",
    "print(c)"
   ]
  },
  {
   "cell_type": "markdown",
   "metadata": {},
   "source": [
    "### More compact way\n",
    "\n",
    "We can actually do this a lot more compactly by using another list comprehensions and another python datatype called a set.  A set is a group of items, where each item is unique (e.g., no repetitions)."
   ]
  },
  {
   "cell_type": "markdown",
   "metadata": {},
   "source": [
    "Here's a list comprehension that removes all the punctuation and converts to lower case:"
   ]
  },
  {
   "cell_type": "code",
   "execution_count": 31,
   "metadata": {},
   "outputs": [],
   "source": [
    "words = [q.lower().replace(\".\", \"\").replace(\",\", \"\") for q in ga]"
   ]
  },
  {
   "cell_type": "markdown",
   "metadata": {},
   "source": [
    "and by using the `set()` function, we turn the list into a set, removing any duplicates:"
   ]
  },
  {
   "cell_type": "code",
   "execution_count": 32,
   "metadata": {},
   "outputs": [],
   "source": [
    "unique_words = set(words)"
   ]
  },
  {
   "cell_type": "markdown",
   "metadata": {},
   "source": [
    "now we can loop over the unique words and use the `count` method of a list to find how many there are"
   ]
  },
  {
   "cell_type": "code",
   "execution_count": 33,
   "metadata": {},
   "outputs": [
    {
     "data": {
      "text/plain": [
       "{'gave': 2,\n",
       " 'consecrate': 1,\n",
       " 'what': 2,\n",
       " 'do': 1,\n",
       " 'birth': 1,\n",
       " 'little': 1,\n",
       " 'years': 1,\n",
       " 'measure': 1,\n",
       " 'we': 10,\n",
       " 'is': 3,\n",
       " 'civil': 1,\n",
       " 'god': 1,\n",
       " 'fought': 1,\n",
       " 'live': 1,\n",
       " 'continent': 1,\n",
       " 'poor': 1,\n",
       " 'shall': 3,\n",
       " 'place': 1,\n",
       " 'proper': 1,\n",
       " 'a': 7,\n",
       " 'they': 3,\n",
       " 'so': 3,\n",
       " 'remember': 1,\n",
       " 'above': 1,\n",
       " 'now': 1,\n",
       " 'by': 1,\n",
       " 'on': 2,\n",
       " 'power': 1,\n",
       " 'from': 2,\n",
       " 'hallow': 1,\n",
       " 'larger': 1,\n",
       " 'world': 1,\n",
       " 'highly': 1,\n",
       " 'battle-field': 1,\n",
       " 'did': 1,\n",
       " 'unfinished': 1,\n",
       " 'resting': 1,\n",
       " 'take': 1,\n",
       " 'their': 1,\n",
       " 'engaged': 1,\n",
       " 'dedicated': 4,\n",
       " 'final': 1,\n",
       " 'altogether': 1,\n",
       " 'liberty': 1,\n",
       " 'thus': 1,\n",
       " 'died': 1,\n",
       " 'met': 1,\n",
       " 'earth': 1,\n",
       " 'war': 2,\n",
       " 'that': 13,\n",
       " 'whether': 1,\n",
       " 'us': 3,\n",
       " 'nobly': 1,\n",
       " 'will': 1,\n",
       " 'forth': 1,\n",
       " 'freedom': 1,\n",
       " 'should': 1,\n",
       " 'living': 2,\n",
       " 'under': 1,\n",
       " 'four': 1,\n",
       " 'note': 1,\n",
       " 'here': 8,\n",
       " 'any': 1,\n",
       " 'before': 1,\n",
       " 'honored': 1,\n",
       " 'field': 1,\n",
       " 'forget': 1,\n",
       " 'in': 4,\n",
       " 'who': 3,\n",
       " 'for': 5,\n",
       " 'or': 2,\n",
       " 'nation': 5,\n",
       " 'fathers': 1,\n",
       " 'the': 11,\n",
       " 'these': 2,\n",
       " 'men': 2,\n",
       " 'say': 1,\n",
       " 'never': 1,\n",
       " 'all': 1,\n",
       " '--': 7,\n",
       " 'this': 4,\n",
       " 'those': 1,\n",
       " 'conceived': 2,\n",
       " 'testing': 1,\n",
       " 'created': 1,\n",
       " 'of': 5,\n",
       " 'which': 2,\n",
       " 'vain': 1,\n",
       " 'detract': 1,\n",
       " 'rather': 2,\n",
       " 'score': 1,\n",
       " 'struggled': 1,\n",
       " 'resolve': 1,\n",
       " 'people': 3,\n",
       " 'to': 8,\n",
       " 'brought': 1,\n",
       " 'ground': 1,\n",
       " 'but': 2,\n",
       " 'remaining': 1,\n",
       " 'full': 1,\n",
       " 'last': 1,\n",
       " 'come': 1,\n",
       " 'long': 2,\n",
       " 'far': 2,\n",
       " 'dead': 3,\n",
       " 'consecrated': 1,\n",
       " 'devotion': 2,\n",
       " 'dedicate': 2,\n",
       " 'advanced': 1,\n",
       " 'government': 1,\n",
       " 'be': 2,\n",
       " 'and': 6,\n",
       " 'can': 5,\n",
       " 'new': 2,\n",
       " 'lives': 1,\n",
       " 'it': 5,\n",
       " 'great': 3,\n",
       " 'work': 1,\n",
       " 'equal': 1,\n",
       " 'as': 1,\n",
       " 'increased': 1,\n",
       " 'perish': 1,\n",
       " 'brave': 1,\n",
       " 'seven': 1,\n",
       " 'not': 5,\n",
       " 'are': 3,\n",
       " 'our': 2,\n",
       " 'cause': 1,\n",
       " 'task': 1,\n",
       " 'add': 1,\n",
       " 'nor': 1,\n",
       " 'portion': 1,\n",
       " 'fitting': 1,\n",
       " 'might': 1,\n",
       " 'proposition': 1,\n",
       " 'sense': 1,\n",
       " 'ago': 1,\n",
       " 'have': 5,\n",
       " 'endure': 1}"
      ]
     },
     "execution_count": 33,
     "metadata": {},
     "output_type": "execute_result"
    }
   ],
   "source": [
    "count = {}\n",
    "for uw in unique_words:\n",
    "    count[uw] = words.count(uw)\n",
    "    \n",
    "count"
   ]
  },
  {
   "cell_type": "markdown",
   "metadata": {},
   "source": [
    "Even shorter -- we can use a dictionary comprehension, like a list comprehension"
   ]
  },
  {
   "cell_type": "code",
   "execution_count": 34,
   "metadata": {},
   "outputs": [],
   "source": [
    "c = {uw: count[uw] for uw in unique_words}"
   ]
  },
  {
   "cell_type": "code",
   "execution_count": 35,
   "metadata": {},
   "outputs": [
    {
     "data": {
      "text/plain": [
       "{'gave': 2,\n",
       " 'consecrate': 1,\n",
       " 'what': 2,\n",
       " 'do': 1,\n",
       " 'birth': 1,\n",
       " 'little': 1,\n",
       " 'years': 1,\n",
       " 'measure': 1,\n",
       " 'we': 10,\n",
       " 'is': 3,\n",
       " 'civil': 1,\n",
       " 'god': 1,\n",
       " 'fought': 1,\n",
       " 'live': 1,\n",
       " 'continent': 1,\n",
       " 'poor': 1,\n",
       " 'shall': 3,\n",
       " 'place': 1,\n",
       " 'proper': 1,\n",
       " 'a': 7,\n",
       " 'they': 3,\n",
       " 'so': 3,\n",
       " 'remember': 1,\n",
       " 'above': 1,\n",
       " 'now': 1,\n",
       " 'by': 1,\n",
       " 'on': 2,\n",
       " 'power': 1,\n",
       " 'from': 2,\n",
       " 'hallow': 1,\n",
       " 'larger': 1,\n",
       " 'world': 1,\n",
       " 'highly': 1,\n",
       " 'battle-field': 1,\n",
       " 'did': 1,\n",
       " 'unfinished': 1,\n",
       " 'resting': 1,\n",
       " 'take': 1,\n",
       " 'their': 1,\n",
       " 'engaged': 1,\n",
       " 'dedicated': 4,\n",
       " 'final': 1,\n",
       " 'altogether': 1,\n",
       " 'liberty': 1,\n",
       " 'thus': 1,\n",
       " 'died': 1,\n",
       " 'met': 1,\n",
       " 'earth': 1,\n",
       " 'war': 2,\n",
       " 'that': 13,\n",
       " 'whether': 1,\n",
       " 'us': 3,\n",
       " 'nobly': 1,\n",
       " 'will': 1,\n",
       " 'forth': 1,\n",
       " 'freedom': 1,\n",
       " 'should': 1,\n",
       " 'living': 2,\n",
       " 'under': 1,\n",
       " 'four': 1,\n",
       " 'note': 1,\n",
       " 'here': 8,\n",
       " 'any': 1,\n",
       " 'before': 1,\n",
       " 'honored': 1,\n",
       " 'field': 1,\n",
       " 'forget': 1,\n",
       " 'in': 4,\n",
       " 'who': 3,\n",
       " 'for': 5,\n",
       " 'or': 2,\n",
       " 'nation': 5,\n",
       " 'fathers': 1,\n",
       " 'the': 11,\n",
       " 'these': 2,\n",
       " 'men': 2,\n",
       " 'say': 1,\n",
       " 'never': 1,\n",
       " 'all': 1,\n",
       " '--': 7,\n",
       " 'this': 4,\n",
       " 'those': 1,\n",
       " 'conceived': 2,\n",
       " 'testing': 1,\n",
       " 'created': 1,\n",
       " 'of': 5,\n",
       " 'which': 2,\n",
       " 'vain': 1,\n",
       " 'detract': 1,\n",
       " 'rather': 2,\n",
       " 'score': 1,\n",
       " 'struggled': 1,\n",
       " 'resolve': 1,\n",
       " 'people': 3,\n",
       " 'to': 8,\n",
       " 'brought': 1,\n",
       " 'ground': 1,\n",
       " 'but': 2,\n",
       " 'remaining': 1,\n",
       " 'full': 1,\n",
       " 'last': 1,\n",
       " 'come': 1,\n",
       " 'long': 2,\n",
       " 'far': 2,\n",
       " 'dead': 3,\n",
       " 'consecrated': 1,\n",
       " 'devotion': 2,\n",
       " 'dedicate': 2,\n",
       " 'advanced': 1,\n",
       " 'government': 1,\n",
       " 'be': 2,\n",
       " 'and': 6,\n",
       " 'can': 5,\n",
       " 'new': 2,\n",
       " 'lives': 1,\n",
       " 'it': 5,\n",
       " 'great': 3,\n",
       " 'work': 1,\n",
       " 'equal': 1,\n",
       " 'as': 1,\n",
       " 'increased': 1,\n",
       " 'perish': 1,\n",
       " 'brave': 1,\n",
       " 'seven': 1,\n",
       " 'not': 5,\n",
       " 'are': 3,\n",
       " 'our': 2,\n",
       " 'cause': 1,\n",
       " 'task': 1,\n",
       " 'add': 1,\n",
       " 'nor': 1,\n",
       " 'portion': 1,\n",
       " 'fitting': 1,\n",
       " 'might': 1,\n",
       " 'proposition': 1,\n",
       " 'sense': 1,\n",
       " 'ago': 1,\n",
       " 'have': 5,\n",
       " 'endure': 1}"
      ]
     },
     "execution_count": 35,
     "metadata": {},
     "output_type": "execute_result"
    }
   ],
   "source": [
    "c"
   ]
  },
  {
   "cell_type": "markdown",
   "metadata": {},
   "source": [
    "## Q5: Foxes and dogs\n",
    "\n",
    "### Part 1. Short words\n",
    "\n",
    "Let's practice functions.  Here's a simple function that takes a string and returns a list of all the 4 letter words:"
   ]
  },
  {
   "cell_type": "code",
   "execution_count": 36,
   "metadata": {},
   "outputs": [],
   "source": [
    "def four_letter_words(message):\n",
    "    words = message.split()\n",
    "    four_letters = [w for w in words if len(w) == 4]\n",
    "    return four_letters"
   ]
  },
  {
   "cell_type": "code",
   "execution_count": 37,
   "metadata": {},
   "outputs": [
    {
     "name": "stdout",
     "output_type": "stream",
     "text": [
      "['over', 'lazy']\n"
     ]
    }
   ],
   "source": [
    "message = \"The quick brown fox jumps over the lazy dog\"\n",
    "print(four_letter_words(message))"
   ]
  },
  {
   "cell_type": "markdown",
   "metadata": {},
   "source": [
    "Write a version of this function that takes a second argument, n, that is the word length we want to search for"
   ]
  },
  {
   "cell_type": "code",
   "execution_count": 38,
   "metadata": {},
   "outputs": [
    {
     "name": "stdout",
     "output_type": "stream",
     "text": [
      "['over', 'lazy']\n"
     ]
    }
   ],
   "source": [
    "def n_letter_words(message, n):\n",
    "    words = message.split()\n",
    "    four_letters = [w for w in words if len(w) == n]\n",
    "    return four_letters\n",
    "\n",
    "N = 4\n",
    "message = \"The quick brown fox jumps over the lazy dog\"\n",
    "print(n_letter_words(message, N))"
   ]
  },
  {
   "cell_type": "markdown",
   "metadata": {},
   "source": [
    "### Part 2: Panagrams\n",
    "\n",
    "A _panagram_ is a sentence that includes all 26 letters of the alphabet, e.g., \"_The quick brown fox jumps over the lazy dog_.\"\n",
    "\n",
    "Write a function that takes as an argument a sentence and returns `True` or `False`, indicating whether the sentence is a panagram."
   ]
  },
  {
   "cell_type": "code",
   "execution_count": 39,
   "metadata": {},
   "outputs": [],
   "source": [
    "def is_panagram(phrase):\n",
    "    alphabet = \"abcdefghijklmnopqrstuvwxyz\"\n",
    "    return all(item in phrase.lower() for item in alphabet)"
   ]
  },
  {
   "cell_type": "code",
   "execution_count": 40,
   "metadata": {},
   "outputs": [
    {
     "name": "stdout",
     "output_type": "stream",
     "text": [
      "True\n",
      "False\n"
     ]
    }
   ],
   "source": [
    "print(is_panagram(\"The quick brown fox jumps over the lazy dog\"))\n",
    "print(is_panagram(\"The quick brown fox jumps over\"))"
   ]
  },
  {
   "cell_type": "markdown",
   "metadata": {},
   "source": [
    "## Q6: Cath errors"
   ]
  },
  {
   "cell_type": "markdown",
   "metadata": {},
   "source": [
    "We want to safely convert a string into a float, int, or leave it as a string, depending on its contents.  As we've already seen, python provides `float()` and `int()` functions for this:"
   ]
  },
  {
   "cell_type": "code",
   "execution_count": 41,
   "metadata": {},
   "outputs": [
    {
     "name": "stdout",
     "output_type": "stream",
     "text": [
      "2.0 <class 'float'>\n"
     ]
    }
   ],
   "source": [
    "a = \"2.0\"\n",
    "b = float(a)\n",
    "print(b, type(b))"
   ]
  },
  {
   "cell_type": "markdown",
   "metadata": {},
   "source": [
    "But these throw exceptions if the conversion is not possible"
   ]
  },
  {
   "cell_type": "code",
   "execution_count": 42,
   "metadata": {},
   "outputs": [
    {
     "ename": "ValueError",
     "evalue": "could not convert string to float: 'this is a string'",
     "output_type": "error",
     "traceback": [
      "\u001b[0;31m---------------------------------------------------------------------------\u001b[0m",
      "\u001b[0;31mValueError\u001b[0m                                Traceback (most recent call last)",
      "Cell \u001b[0;32mIn[42], line 2\u001b[0m\n\u001b[1;32m      1\u001b[0m a \u001b[38;5;241m=\u001b[39m \u001b[38;5;124m\"\u001b[39m\u001b[38;5;124mthis is a string\u001b[39m\u001b[38;5;124m\"\u001b[39m\n\u001b[0;32m----> 2\u001b[0m b \u001b[38;5;241m=\u001b[39m \u001b[38;5;28;43mfloat\u001b[39;49m\u001b[43m(\u001b[49m\u001b[43ma\u001b[49m\u001b[43m)\u001b[49m\n",
      "\u001b[0;31mValueError\u001b[0m: could not convert string to float: 'this is a string'"
     ]
    }
   ],
   "source": [
    "a = \"this is a string\"\n",
    "b = float(a)"
   ]
  },
  {
   "cell_type": "code",
   "execution_count": 43,
   "metadata": {},
   "outputs": [
    {
     "ename": "ValueError",
     "evalue": "invalid literal for int() with base 10: '1.2345'",
     "output_type": "error",
     "traceback": [
      "\u001b[0;31m---------------------------------------------------------------------------\u001b[0m",
      "\u001b[0;31mValueError\u001b[0m                                Traceback (most recent call last)",
      "Cell \u001b[0;32mIn[43], line 2\u001b[0m\n\u001b[1;32m      1\u001b[0m a \u001b[38;5;241m=\u001b[39m \u001b[38;5;124m\"\u001b[39m\u001b[38;5;124m1.2345\u001b[39m\u001b[38;5;124m\"\u001b[39m\n\u001b[0;32m----> 2\u001b[0m b \u001b[38;5;241m=\u001b[39m \u001b[38;5;28;43mint\u001b[39;49m\u001b[43m(\u001b[49m\u001b[43ma\u001b[49m\u001b[43m)\u001b[49m\n\u001b[1;32m      3\u001b[0m \u001b[38;5;28mprint\u001b[39m(b, \u001b[38;5;28mtype\u001b[39m(b))\n",
      "\u001b[0;31mValueError\u001b[0m: invalid literal for int() with base 10: '1.2345'"
     ]
    }
   ],
   "source": [
    "a = \"1.2345\"\n",
    "b = int(a)\n",
    "print(b, type(b))"
   ]
  },
  {
   "cell_type": "code",
   "execution_count": 44,
   "metadata": {},
   "outputs": [
    {
     "name": "stdout",
     "output_type": "stream",
     "text": [
      "1.2345 <class 'float'>\n"
     ]
    }
   ],
   "source": [
    "b = float(a)\n",
    "print(b, type(b))"
   ]
  },
  {
   "cell_type": "markdown",
   "metadata": {},
   "source": [
    "Notice that an int can be converted to a float, but if you convert a float to an int, you risk losing significant digits.  A string cannot be converted to either.\n",
    "\n",
    "### Your task\n",
    "\n",
    "Write a function, `convert_type(a)` that takes a string `a`, and converts it to a float if it is a number with a decimal point, an int if it is an integer, or leaves it as a string otherwise, and returns the result.  You'll want to use exceptions to prevent the code from aborting."
   ]
  },
  {
   "cell_type": "code",
   "execution_count": 45,
   "metadata": {},
   "outputs": [
    {
     "name": "stdout",
     "output_type": "stream",
     "text": [
      "Conversion to int failed\n",
      "this is a string\n",
      "1.2345\n",
      "2\n"
     ]
    }
   ],
   "source": [
    "\n",
    "a = \"this is a string\"\n",
    "aa = \"1.2345\"\n",
    "aaa = \"2\"\n",
    "\n",
    "def convert_type(a):\n",
    "  if \".\" in a:\n",
    "    try:\n",
    "      return float(a)\n",
    "    except ValueError:\n",
    "      print(\"Conversion to float failed\")\n",
    "    return a\n",
    "  else:\n",
    "    try:\n",
    "      return int(a)\n",
    "    except ValueError:\n",
    "      print(\"Conversion to int failed\")\n",
    "    return a\n",
    "\n",
    "print(convert_type(a))\n",
    "print(convert_type(aa))\n",
    "print(convert_type(aaa))"
   ]
  },
  {
   "cell_type": "markdown",
   "metadata": {},
   "source": [
    "## Q11: Rock-Paper-Scissors\n",
    "\n",
    "Implement a set of games of rock-paper-scissors against the computer.  \n",
    "\n",
    "  * Ask for input from the user (\"rock\", \"paper\", or \"scissors\") and the randomly select one of these for the computer's play.\n",
    "  * Announce who won.\n",
    "  * Keep playing until a player says that they no longer want to play.\n",
    "  * When all games are done, print out how many games were won by the player and by the computer "
   ]
  },
  {
   "cell_type": "code",
   "execution_count": 47,
   "metadata": {},
   "outputs": [
    {
     "name": "stdout",
     "output_type": "stream",
     "text": [
      "Draw!\n",
      "PC won!\n",
      "user won!\n",
      "Draw!\n",
      "PC won!\n",
      "PC won!\n",
      "Draw!\n",
      "Draw!\n",
      "PC won!\n",
      "PC won!\n",
      "PC won!\n",
      "PC won!\n",
      "user won!\n",
      "Draw!\n",
      "user won!\n",
      "user won!\n",
      "end of game: user 4 vs pc 7\n"
     ]
    }
   ],
   "source": [
    "choices = [\"rock\", \"paper\", \"scissors\", \"quit\"]\n",
    "user = input(\"choose one between \"+ str(choices[:-1]) + \" (or quit to exit): \")\n",
    "pc_score = 0\n",
    "user_score = 0\n",
    "while user != \"quit\":\n",
    "    while user not in choices:\n",
    "        user = input(\"wrong input! Choose one between \"+ str(choices[:-1]) + \" (or quit to exit): \")\n",
    "\n",
    "    import random\n",
    "    pc = choices[random.randint(0,2)]\n",
    "    if pc == user:\n",
    "        print(\"Draw!\")\n",
    "    elif (pc == \"rock\" and user == \"scissors\") or (pc == \"scissors\" and user == \"paper\") or (pc == \"paper\" and user == \"rock\"):\n",
    "        print(\"PC won!\")\n",
    "        pc_score += 1\n",
    "    else:\n",
    "        print(\"user won!\")\n",
    "        user_score += 1\n",
    "    user = input(\"choose one between \"+ str(choices[:-1]) + \" (or quit to exit): \")\n",
    "print(f\"end of game: user {user_score} vs pc {pc_score}\")"
   ]
  },
  {
   "cell_type": "markdown",
   "metadata": {},
   "source": [
    "## Q12: Pascal's triangle\n",
    "\n",
    "Pascal's triangle is created such that each layer has 1 more element than the previous, with `1`s on the side and in the interior, the numbers are the sum of the two above it, e.g.,:\n",
    "```\n",
    "            1\n",
    "          1   1\n",
    "        1   2   1\n",
    "      1   3   3   1\n",
    "    1   4   6   4   1\n",
    "  1   5   10  10  5   1\n",
    "```\n",
    "\n",
    "1. Write a function to return the first `n` rows of Pascal's triangle.  The return should be a list of length `n`, with each element itself a list containing the numbers for that row.\n",
    "2. Write a function to print out Pascal's triangle with proper formatting, so the numbers in each row are centered between the ones in the row above"
   ]
  },
  {
   "cell_type": "code",
   "execution_count": 48,
   "metadata": {},
   "outputs": [],
   "source": [
    "# 1. Write a function to return the first `n` rows of Pascal's triangle.  The return should be a list of length `n`, with each element itself a list containing the numbers for that row.\n",
    "import numpy as np\n",
    "def pascal_n_rows(n):\n",
    "    triangle = [[1]]\n",
    "    while len(triangle) < n:\n",
    "        if len(triangle) == 1:\n",
    "            triangle.append([1, 1])\n",
    "        else:\n",
    "            new_line = np.array(triangle[-1] + [0]) + np.array([0] + triangle[-1])\n",
    "            triangle.append(list(new_line))\n",
    "    return triangle"
   ]
  },
  {
   "cell_type": "code",
   "execution_count": 49,
   "metadata": {},
   "outputs": [],
   "source": [
    "triangle = pascal_n_rows(10)"
   ]
  },
  {
   "cell_type": "code",
   "execution_count": 50,
   "metadata": {},
   "outputs": [],
   "source": [
    "# 2. Write a function to print out Pascal's triangle with proper formatting, so the numbers in each row are centered between the ones in the row above\n",
    "def print_triangle(tr):\n",
    "    righe = len(tr)\n",
    "    spazi = len(str(max(list(map(max, tr)))))\n",
    "    for i, t in enumerate(tr):\n",
    "        to_print = \" \"*spazi*(righe -i-1) \n",
    "        for l in t:\n",
    "            to_print += \" \"*(spazi - len(str(l)))\n",
    "            to_print += str(l)\n",
    "            to_print += \" \"*spazi\n",
    "        print(to_print)"
   ]
  },
  {
   "cell_type": "code",
   "execution_count": 51,
   "metadata": {},
   "outputs": [
    {
     "name": "stdout",
     "output_type": "stream",
     "text": [
      "                             1   \n",
      "                          1     1   \n",
      "                       1     2     1   \n",
      "                    1     3     3     1   \n",
      "                 1     4     6     4     1   \n",
      "              1     5    10    10     5     1   \n",
      "           1     6    15    20    15     6     1   \n",
      "        1     7    21    35    35    21     7     1   \n",
      "     1     8    28    56    70    56    28     8     1   \n",
      "  1     9    36    84   126   126    84    36     9     1   \n"
     ]
    }
   ],
   "source": [
    "print_triangle(triangle)"
   ]
  }
 ],
 "metadata": {
  "kernelspec": {
   "display_name": "Python 3",
   "language": "python",
   "name": "python3"
  },
  "language_info": {
   "codemirror_mode": {
    "name": "ipython",
    "version": 3
   },
   "file_extension": ".py",
   "mimetype": "text/x-python",
   "name": "python",
   "nbconvert_exporter": "python",
   "pygments_lexer": "ipython3",
   "version": "3.8.10"
  }
 },
 "nbformat": 4,
 "nbformat_minor": 2
}
