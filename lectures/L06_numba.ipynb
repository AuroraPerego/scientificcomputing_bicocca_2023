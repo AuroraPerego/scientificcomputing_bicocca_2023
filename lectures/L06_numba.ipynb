{
 "cells": [
  {
   "cell_type": "markdown",
   "metadata": {},
   "source": [
    "# Go faster: numba\n",
    "\n",
    "*Davide Gerosa (Milano-Bicocca)*\n",
    "\n",
    "**Sources**: The data frog: https://thedatafrog.com/en/articles/make-python-fast-numba "
   ]
  },
  {
   "cell_type": "markdown",
   "metadata": {},
   "source": [
    "The usual criticism to python is that it's slow. The underlying reason is that python is an interpreted language and not a compiled language (but that's also why python it's nice and simple!).\n",
    "\n",
    "Numpy largely solves the speed problem in most cases, but not everything can be written in a numpy-compatible form (or even if it can, you might need to rewrite substantial chunks of code). \n",
    "\n",
    "## Extensions \n",
    "\n",
    "There are a few ways to make python faster, which are called _extensions_. Typically, these boils down to either\n",
    "- Write some core functions in compiled language like C or Fortran and interface it with python. This is also useful to recycle some legacy code written by the supervisor of your supervisor that doesn't know python.\n",
    "- Use a library that converts python into compiled code (with some restrictions)\n",
    "\n",
    "Some libraries:"
   ]
  },
  {
   "cell_type": "markdown",
   "metadata": {},
   "source": [
    "* **C**\n",
    "  * [C-API](https://docs.python.org/3/c-api/index.html) : the\n",
    "    standard python interpreter (cpython) is written in C, so it is\n",
    "    natural that we can write C code to interact with our python code.\n",
    "    This is the python C-API.  Since numpy is also written in C, we\n",
    "    can work with numpy arrays in C code as well.\n",
    "    This will give us the performance of C compiled code, but the\n",
    "    downside is that we lose a lot of what makes python great.  We\n",
    "    need to pass data into C as pointers and cast them into types that\n",
    "    represent the arrays we use.  This means writing a lot of\n",
    "    boilerplate code just to deal with some simple operations. These days, there are better methods for most applications.\n",
    "  * [ctypes](https://docs.python.org/3/library/ctypes.html) : this\n",
    "    is a module that allows you to call functions in shared libraries.\n",
    "    This is part of standard python. With ctypes, you don't need to modify your C code -- you just need to\n",
    "    define an interface to the C function in python.  However, the calling\n",
    "    mechanism can be slow. There is support for numpy through numpy.ctypeslib.\n",
    "\n",
    "* **Fortran**\n",
    "  * [f2py](https://numpy.org/doc/stable/f2py/) : this is part of\n",
    "    numpy.  It allows for easy calling of Fortran from python.\n",
    "    You essentially just need to add some comments to your Fortran\n",
    "    code to allow f2py to build an interface.  f2py understands the\n",
    "    different orderings of indices between C and Fortran arrays.\n",
    "\n",
    "* **python**\n",
    "  * [Cython](https://cython.org/) : this is a superset of python that can convert python into\n",
    "    compiled C code. The advantage here is that the code looks like python, with some\n",
    "    declarations of the variable types with `cdef`.  Performance can be\n",
    "    really great when you need to explicitly write out loops over\n",
    "    numpy array indices.\n",
    "  * [Numba](https://numba.pydata.org/) : this is a just-in-time\n",
    "    compiler.  It just requires a simple decorator and then it will\n",
    "    compile a python function the first time it is encountered.\n",
    "\n",
    "* **GPU**: The modern (think deep learning) way of going faster is actually changing hardware and using GPUs instead of CPUs. That could probably fill an entire class, but [this](https://thedatafrog.com/en/articles/boost-python-gpu/) is a nice tutorial. There's even [some hardware](https://cloud.google.com/tpu/docs/intro-to-tpu) that is specifically built for AI (Google builds it to run TensorFlow).\n",
    "    \n"
   ]
  },
  {
   "cell_type": "markdown",
   "metadata": {},
   "source": [
    "Just-in-time compiliation seems to be the cool thing to do, so here we'll look at Numba. But before that... "
   ]
  },
  {
   "cell_type": "markdown",
   "metadata": {
    "id": "oi5Qc67EaCuA"
   },
   "source": [
    "## Python decorators\n",
    "\n",
    "With numba, the compilation of a python function is triggered by a decorator.\n",
    "\n",
    "A python decorator is a function that takes another function as input, modifies it, and returns the modified function to the user. I realize that this sentence sounds tricky, but it's not. \n",
    "\n",
    "Remember that in python everything is an object. Functions are objects, and classes are objects too. For instance, let's take this simple function:"
   ]
  },
  {
   "cell_type": "code",
   "execution_count": 1,
   "metadata": {
    "id": "3eH6kWTGd9KX"
   },
   "outputs": [],
   "source": [
    "def hello():\n",
    "  print('Hello world')"
   ]
  },
  {
   "cell_type": "markdown",
   "metadata": {
    "id": "q2hPgixweL7D"
   },
   "source": [
    "`hello` is a function object, so we can pass it to another function like this one:"
   ]
  },
  {
   "cell_type": "code",
   "execution_count": 2,
   "metadata": {
    "id": "ieTemKPNfZLM"
   },
   "outputs": [],
   "source": [
    "def make_sure(func):\n",
    "  def wrapper():\n",
    "    while 1:\n",
    "      res = input('are you sure you want to greet the world? [y/n]')\n",
    "      if res=='n':\n",
    "        return\n",
    "      elif res=='y':\n",
    "        func()\n",
    "        return\n",
    "  return wrapper"
   ]
  },
  {
   "cell_type": "markdown",
   "metadata": {
    "id": "UCDcnKG3iZxC"
   },
   "source": [
    "This is a decorator! `make_sure` takes an input function and returns a new function that wraps the input function.\n",
    "\n",
    "Below, we decorate the function `hello`, and `whello` is the decorated function:"
   ]
  },
  {
   "cell_type": "code",
   "execution_count": 3,
   "metadata": {
    "colab": {
     "base_uri": "https://localhost:8080/",
     "height": 51
    },
    "id": "QDpLTBVfe_CB",
    "outputId": "60529bfd-6040-4108-8631-751903723148"
   },
   "outputs": [
    {
     "name": "stdout",
     "output_type": "stream",
     "text": [
      "are you sure you want to greet the world? [y/n]y\n",
      "Hello world\n"
     ]
    }
   ],
   "source": [
    "whello = make_sure(hello)\n",
    "whello()\n"
   ]
  },
  {
   "cell_type": "markdown",
   "metadata": {
    "id": "1MmtXXvzi_5H"
   },
   "source": [
    "Of course, we can use the make_sure decorator on any function that has the same signature as `func` (can work without arguments, and no need to retrieve the output).\n",
    "\n",
    "We know enough about decorators to use numba. Still, just one word about the syntax. We can also decorate a function in this way:"
   ]
  },
  {
   "cell_type": "code",
   "execution_count": 4,
   "metadata": {
    "colab": {
     "base_uri": "https://localhost:8080/",
     "height": 51
    },
    "id": "TfleCn-mjd5Q",
    "outputId": "4cbf3e70-3e72-4283-fc4c-3b4226c31cdf"
   },
   "outputs": [
    {
     "name": "stdout",
     "output_type": "stream",
     "text": [
      "are you sure you want to greet the world? [y/n]\n",
      "are you sure you want to greet the world? [y/n]\n",
      "are you sure you want to greet the world? [y/n]y\n",
      "Hello world\n"
     ]
    }
   ],
   "source": [
    "@make_sure\n",
    "def hello():\n",
    "  print('Hello world')\n",
    "\n",
    "hello()"
   ]
  },
  {
   "cell_type": "markdown",
   "metadata": {
    "id": "OcykNEdcjlii"
   },
   "source": [
    "There is really nothing mysterious about this, it's just a nice and easy syntax to decorate the function as soon as you write it."
   ]
  },
  {
   "cell_type": "markdown",
   "metadata": {
    "id": "UlTYGbG47RLA"
   },
   "source": [
    "## Just-in-time compilation with numba\n"
   ]
  },
  {
   "cell_type": "markdown",
   "metadata": {
    "id": "016H-Bz54Fa0"
   },
   "source": [
    "Numba is able to compile python code into bytecode optimized for your machine, with the help the LLVM library. You don't really need to know what LLVM is to follow this tutorial, but here is a [nice introduction to LLVM](https://www.infoworld.com/article/3247799/what-is-llvm-the-power-behind-swift-rust-clang-and-more.html) in case you're interested."
   ]
  },
  {
   "cell_type": "markdown",
   "metadata": {
    "id": "LBjJhsU3-8I-"
   },
   "source": [
    "Here is a function that can take a bit of time. This function takes a list of numbers, and returns the standard deviation of these numbers."
   ]
  },
  {
   "cell_type": "code",
   "execution_count": 5,
   "metadata": {
    "id": "GnPGlxxL2ROc"
   },
   "outputs": [],
   "source": [
    "import math\n",
    "\n",
    "def std(xs):\n",
    "  # compute the mean\n",
    "  mean = 0\n",
    "  for x in xs:\n",
    "    mean += x\n",
    "  mean /= len(xs)\n",
    "  # compute the variance\n",
    "  ms = 0\n",
    "  for x in xs:\n",
    "     ms += (x-mean)**2\n",
    "  variance = ms / len(xs)\n",
    "  std = math.sqrt(variance)\n",
    "  return std"
   ]
  },
  {
   "cell_type": "markdown",
   "metadata": {
    "id": "PZUXpAVS_gbg"
   },
   "source": [
    "As we can see in the code, we need to loop twice on the sample of numbers: first to compute the mean, and then to compute the variance, which is the square of the standard deviation.\n",
    "\n",
    "Obviously, the more numbers in the sample, the more time the function will take to complete. Let's start with 10 million numbers, drawn from a Gaussian distribution of unit standard deviation:"
   ]
  },
  {
   "cell_type": "code",
   "execution_count": 14,
   "metadata": {
    "id": "IhM4eV5r26fr"
   },
   "outputs": [],
   "source": [
    "import numpy as np\n",
    "a = np.random.normal(0, 1, 10000000)"
   ]
  },
  {
   "cell_type": "code",
   "execution_count": 15,
   "metadata": {
    "colab": {
     "base_uri": "https://localhost:8080/",
     "height": 34
    },
    "id": "VjG27qOP2_fT",
    "outputId": "f9b0443c-c07f-4f27-df97-e425d5733f52"
   },
   "outputs": [
    {
     "data": {
      "text/plain": [
       "1.0004672111725679"
      ]
     },
     "execution_count": 15,
     "metadata": {},
     "output_type": "execute_result"
    }
   ],
   "source": [
    "std(a)"
   ]
  },
  {
   "cell_type": "markdown",
   "metadata": {
    "id": "klnf87d28pNY"
   },
   "source": [
    "The function takes a second or so to compute the standard deviation of the sample.\n",
    "\n",
    "Now, let's import the njit decorator from numba, and decorate our std function to create a new function:"
   ]
  },
  {
   "cell_type": "code",
   "execution_count": 16,
   "metadata": {
    "id": "kel6N3zs3j3y"
   },
   "outputs": [],
   "source": [
    "from numba import njit\n",
    "c_std = njit(std)"
   ]
  },
  {
   "cell_type": "code",
   "execution_count": 17,
   "metadata": {
    "colab": {
     "base_uri": "https://localhost:8080/",
     "height": 34
    },
    "id": "xxXWnK5a34dU",
    "outputId": "06a6ccaa-f527-4144-87f6-af98ae5d0343"
   },
   "outputs": [
    {
     "data": {
      "text/plain": [
       "1.0004672111725679"
      ]
     },
     "execution_count": 17,
     "metadata": {},
     "output_type": "execute_result"
    }
   ],
   "source": [
    "c_std(a)"
   ]
  },
  {
   "cell_type": "markdown",
   "metadata": {
    "id": "bWQBWhJuBKBd"
   },
   "source": [
    "The performance improvement might not seem striking, but that's because the first time the function is called, numba will need to compile the function, which takes a bit of time.\n",
    "\n",
    "But we can quantify the improvement using the timeit magic function, first for the interpreted version of the std function, and then for the compiled version:"
   ]
  },
  {
   "cell_type": "code",
   "execution_count": 18,
   "metadata": {
    "colab": {
     "base_uri": "https://localhost:8080/",
     "height": 34
    },
    "id": "iwD_zYJ337j7",
    "outputId": "18f32748-fcf9-46db-8e18-f3229874fee2"
   },
   "outputs": [
    {
     "name": "stdout",
     "output_type": "stream",
     "text": [
      "1.51 s ± 28.9 ms per loop (mean ± std. dev. of 7 runs, 1 loop each)\n"
     ]
    }
   ],
   "source": [
    "%timeit std(a)"
   ]
  },
  {
   "cell_type": "code",
   "execution_count": 19,
   "metadata": {
    "colab": {
     "base_uri": "https://localhost:8080/",
     "height": 34
    },
    "id": "7OhmC6oX5EJc",
    "outputId": "da394aff-ff2b-429f-aa90-fcd902d96377"
   },
   "outputs": [
    {
     "name": "stdout",
     "output_type": "stream",
     "text": [
      "17.2 ms ± 26.2 µs per loop (mean ± std. dev. of 7 runs, 100 loops each)\n"
     ]
    }
   ],
   "source": [
    "%timeit c_std(a)"
   ]
  },
  {
   "cell_type": "markdown",
   "metadata": {
    "id": "cL37AUon7dFn"
   },
   "source": [
    "The compiled function is 100 times faster!\n",
    "\n",
    "But obviously we did not have to go into such trouble to compute the standard deviation of our array. For that, we can simply use numpy:"
   ]
  },
  {
   "cell_type": "code",
   "execution_count": 20,
   "metadata": {
    "colab": {
     "base_uri": "https://localhost:8080/",
     "height": 34
    },
    "id": "h80HBVB45Gab",
    "outputId": "68912967-c99d-4b23-fbcd-070388619666"
   },
   "outputs": [
    {
     "data": {
      "text/plain": [
       "1.0004672111725286"
      ]
     },
     "execution_count": 20,
     "metadata": {},
     "output_type": "execute_result"
    }
   ],
   "source": [
    "a.std()"
   ]
  },
  {
   "cell_type": "code",
   "execution_count": 21,
   "metadata": {
    "colab": {
     "base_uri": "https://localhost:8080/",
     "height": 34
    },
    "id": "Swne0D077yhU",
    "outputId": "386d16b4-8148-4b9d-ff8f-e50f240fbf03"
   },
   "outputs": [
    {
     "name": "stdout",
     "output_type": "stream",
     "text": [
      "12 ms ± 16.5 µs per loop (mean ± std. dev. of 7 runs, 100 loops each)\n"
     ]
    }
   ],
   "source": [
    "%timeit a.std()"
   ]
  },
  {
   "cell_type": "markdown",
   "metadata": {
    "id": "zbpITZ4XCIKW"
   },
   "source": [
    "In this particular case numba and numpy are comparable, but we'll see numba is much more flexible."
   ]
  },
  {
   "cell_type": "markdown",
   "metadata": {
    "id": "ojynZctYCsH3"
   },
   "source": [
    "## Calculation of pi\n",
    "\n",
    "the number pi can be estimated with a very elegant Monte Carlo method.\n",
    "\n",
    "Just consider a square of side L=2, centred on (0,0). In this square, we fit a circle of radius R=1, as shown in the figure below.\n",
    "\n",
    "![](https://raw.githubusercontent.com/cbernet/maldives/master/numba/pi_mc.png)"
   ]
  },
  {
   "cell_type": "markdown",
   "metadata": {
    "id": "qj3SuK5rASUt"
   },
   "source": [
    "\n",
    "The ratio of the circle area to the square area is\n",
    "\n",
    "$$r = \\frac{A_c}{A_s} = \\frac{\\pi R^2}{L^2} = \\pi / 4$$\n",
    "\n",
    "so\n",
    "\n",
    "$$\\pi = 4 r$$\n",
    "\n",
    "So if we can estimate this ratio, we can estimate pi!\n",
    "\n",
    "And to estimate this ratio, we will simply shoot a large number of points in the square, following a uniform probability distribution. The fraction of the points falling in the circle is an estimator of r.\n",
    "\n",
    "Obviously, the more points, the more precise this estimator will be, and the more decimals of pi can be computed.\n",
    "\n",
    "Let's implement this method, and use it with an increasing number of points to see how the precision improves.\n"
   ]
  },
  {
   "cell_type": "code",
   "execution_count": 22,
   "metadata": {
    "id": "ON3BJEkiGEJs"
   },
   "outputs": [],
   "source": [
    "import random\n",
    "\n",
    "def pi(npoints):\n",
    "  n_in_circle = 0\n",
    "  for i in range(npoints):\n",
    "    x = random.random()\n",
    "    y = random.random()\n",
    "    if (x**2+y**2 < 1):\n",
    "      n_in_circle += 1\n",
    "  return 4*n_in_circle / npoints"
   ]
  },
  {
   "cell_type": "code",
   "execution_count": 23,
   "metadata": {
    "colab": {
     "base_uri": "https://localhost:8080/",
     "height": 85
    },
    "id": "qGFNc_sEGsUa",
    "outputId": "c5cbdb5b-0465-4632-c280-1bd987f20afa"
   },
   "outputs": [
    {
     "name": "stdout",
     "output_type": "stream",
     "text": [
      "4.0\n",
      "3.16\n",
      "3.1356\n",
      "3.1409976\n"
     ]
    }
   ],
   "source": [
    "npoints = [10, 100, 10000, int(10e6)]\n",
    "for number in npoints:\n",
    "  print(pi(number))\n"
   ]
  },
  {
   "cell_type": "markdown",
   "metadata": {
    "id": "IYKaWi-GHDvG"
   },
   "source": [
    "As you can see, even with N=10 million points, the precision is not great. More specifically, the relative uncertainty on pi can be calculated as\n",
    "\n",
    "$$\\delta = 1/ \\sqrt{N}$$\n",
    "\n",
    "(If you don't know why go back to your stats textbook)\n",
    "\n",
    "Here is how the uncertainty evolves with the number of points:"
   ]
  },
  {
   "cell_type": "code",
   "execution_count": 25,
   "metadata": {
    "colab": {
     "base_uri": "https://localhost:8080/",
     "height": 85
    },
    "id": "_inYC2KBH4tc",
    "outputId": "f81c7d82-d16c-4731-d0b7-f9a6c3a9ddc0"
   },
   "outputs": [
    {
     "name": "stdout",
     "output_type": "stream",
     "text": [
      "npoints 10 delta: 0.31622776601683794\n",
      "npoints 100 delta: 0.1\n",
      "npoints 10000 delta: 0.01\n",
      "npoints 10000000 delta: 0.00031622776601683794\n"
     ]
    }
   ],
   "source": [
    "import math\n",
    "# defining the uncertainty function\n",
    "# with a lambda construct\n",
    "uncertainty = lambda x: 1/math.sqrt(x)\n",
    "for number in npoints:\n",
    "  print('npoints', number, 'delta:', uncertainty(number))"
   ]
  },
  {
   "cell_type": "markdown",
   "metadata": {
    "id": "ddsXvcwmIv1t"
   },
   "source": [
    "Clearly, we'll need a lot of points. How fast is our code?"
   ]
  },
  {
   "cell_type": "code",
   "execution_count": 26,
   "metadata": {
    "colab": {
     "base_uri": "https://localhost:8080/",
     "height": 34
    },
    "id": "K2coSx-YI5ol",
    "outputId": "51746db3-701f-4012-db6f-aebb8a401e46"
   },
   "outputs": [
    {
     "name": "stdout",
     "output_type": "stream",
     "text": [
      "1.22 s ± 4.03 ms per loop (mean ± std. dev. of 7 runs, 1 loop each)\n"
     ]
    }
   ],
   "source": [
    "%timeit pi(10000000)"
   ]
  },
  {
   "cell_type": "markdown",
   "metadata": {
    "id": "2GJsoGrFJLHK"
   },
   "source": [
    "A few seconds for 10 million points. This algorithm is O(N), so if we want to use 1 **billion** points, it will take us between 5 and 10 minutes . We don't have that much time, so let's use numba!"
   ]
  },
  {
   "cell_type": "code",
   "execution_count": 29,
   "metadata": {
    "id": "8RNB6NbPJr9L"
   },
   "outputs": [],
   "source": [
    "@njit\n",
    "def fast_pi(npoints):\n",
    "  n_in_circle = 0\n",
    "  for i in range(npoints):\n",
    "    x = random.random()\n",
    "    y = random.random()\n",
    "    if (x**2+y**2 < 1):\n",
    "      n_in_circle += 1\n",
    "  return 4*n_in_circle / npoints"
   ]
  },
  {
   "cell_type": "code",
   "execution_count": 30,
   "metadata": {
    "colab": {
     "base_uri": "https://localhost:8080/",
     "height": 34
    },
    "id": "Kmw3N-HgJytS",
    "outputId": "267a7d1c-bbc2-443c-c8ac-62368ada4c49"
   },
   "outputs": [
    {
     "data": {
      "text/plain": [
       "3.14153064"
      ]
     },
     "execution_count": 30,
     "metadata": {},
     "output_type": "execute_result"
    }
   ],
   "source": [
    "fast_pi( int(1e9) )"
   ]
  },
  {
   "cell_type": "markdown",
   "metadata": {
    "id": "GTd4sWAqMjrO"
   },
   "source": [
    "This took <10 s, instead of 10 minutes!"
   ]
  },
  {
   "cell_type": "markdown",
   "metadata": {
    "id": "oevjT7CP5KwW"
   },
   "source": [
    "## Finding the closest two points"
   ]
  },
  {
   "cell_type": "markdown",
   "metadata": {
    "id": "EoQ10qzv8ug2"
   },
   "source": [
    "Numpy features an efficient implementation for most array operations. \n",
    "\n",
    "My suggestion: **If numpy can do it, just go for it.** Once you've abandoned your C mindeset of using indexes for everything, numpy is just easier to write, easier to read, and the world is shining. \n",
    "\n",
    "But sometimes, you'll come up with an expensive algorithm that cannot easily be implemented with numpy. For instance, let's consider the following function, which takes an array of 2D points, and looks for the closest two points."
   ]
  },
  {
   "cell_type": "code",
   "execution_count": 42,
   "metadata": {
    "id": "5iG7EBeK70YE"
   },
   "outputs": [],
   "source": [
    "import sys\n",
    "def closest(points):\n",
    "  '''Find the two closest points in an array of points in 2D.\n",
    "  Returns the two points, and the distance between them'''\n",
    "\n",
    "  # we will search for the two points with a minimal\n",
    "  # square distance.\n",
    "  # we use the square distance instead of the distance\n",
    "  # to avoid a square root calculation for each pair of\n",
    "  # points\n",
    "\n",
    "  mindist2 = 999999.\n",
    "  mdp1, mdp2 = None, None\n",
    "  for i in range(len(points)):\n",
    "    p1 = points[i]\n",
    "    x1, y1 = p1\n",
    "    for j in range(i+1, len(points)):\n",
    "      p2 = points[j]\n",
    "      x2, y2 = p2\n",
    "      dist2 = (x1-x2)**2 + (y1-y2)**2\n",
    "      if dist2 < mindist2:\n",
    "        # squared distance is improved,\n",
    "        # keep it, as well as the two\n",
    "        # corresponding points\n",
    "        mindist2 = dist2\n",
    "        mdp1,mdp2 = p1,p2\n",
    "  return mdp1, mdp2, math.sqrt(mindist2)"
   ]
  },
  {
   "cell_type": "markdown",
   "metadata": {
    "id": "qJjt9SPP2Eyg"
   },
   "source": [
    "You might be thinking that this algorithm is quite naive, and it's true! It was written like this on purpose.\n",
    "\n",
    "You can see that there is a double loop in this algorithm. So if we have N points, we would have to test NxN pairs of points, so the computational complexity here is $O(N^2)$.\n",
    "\n",
    "To improve the situation a bit, please note that the distance between point i and point j is the same as the distance between point j and point i!\n",
    "So there is no need to check this combination twice. Also, the distance between point i and itself is zero, and should not be tested...That's why we started the inner loop at i+1. So the combinations that are tested are:\n",
    "\n",
    "* (0,1), (0,2), ... (0, N)\n",
    "* (1,2), (1,3), ... (1, N)\n",
    "* ...\n",
    "\n",
    "Another thing to note is that we're doing all we can to limit the amount of computing power needed for each pair. That's why it's minimizing the square distance instead of the distance itself, which saves us a call to math.sqrt for every pair of points.\n",
    "\n",
    "Still, the algorithm remains $O(N^2)$.\n",
    "\n",
    "Let's first run this algorithm on a small sample of 10 points, just to check that it works correctly."
   ]
  },
  {
   "cell_type": "code",
   "execution_count": 43,
   "metadata": {
    "colab": {
     "base_uri": "https://localhost:8080/",
     "height": 238
    },
    "id": "lkS5dbWv_TJA",
    "outputId": "c0b50a27-6f71-42b8-8ac5-83694925bd5a"
   },
   "outputs": [
    {
     "name": "stdout",
     "output_type": "stream",
     "text": [
      "[[ 0.36473207  0.987088  ]\n",
      " [-0.68937368 -0.85826209]\n",
      " [ 0.36812674  0.56381749]\n",
      " [-0.47289578 -0.82180449]\n",
      " [-0.23918686  0.42850499]\n",
      " [-0.90566129 -0.32527947]\n",
      " [-0.10320767  0.54486379]\n",
      " [-0.51233459 -0.5709418 ]\n",
      " [ 0.40029774 -0.14219457]\n",
      " [-0.03475359 -0.95287284]]\n"
     ]
    },
    {
     "data": {
      "text/plain": [
       "(array([-0.23918686,  0.42850499]),\n",
       " array([-0.10320767,  0.54486379]),\n",
       " 0.1789684654011168)"
      ]
     },
     "execution_count": 43,
     "metadata": {},
     "output_type": "execute_result"
    }
   ],
   "source": [
    "points = np.random.uniform((-1,-1), (1,1), (10,2))\n",
    "print(points)\n",
    "closest(points)"
   ]
  },
  {
   "cell_type": "markdown",
   "metadata": {
    "id": "QF-j2ddw8vSH"
   },
   "source": [
    "Ok, this looks right, the two points indeed appear to be quite close. Let's see how fast is the calculation:"
   ]
  },
  {
   "cell_type": "code",
   "execution_count": 44,
   "metadata": {
    "colab": {
     "base_uri": "https://localhost:8080/",
     "height": 34
    },
    "id": "gnOqlYxkAnPE",
    "outputId": "9a5f61f1-df9f-4631-d102-333a5e731241"
   },
   "outputs": [
    {
     "name": "stdout",
     "output_type": "stream",
     "text": [
      "27 µs ± 225 ns per loop (mean ± std. dev. of 7 runs, 10,000 loops each)\n"
     ]
    }
   ],
   "source": [
    "%timeit closest(points)"
   ]
  },
  {
   "cell_type": "markdown",
   "metadata": {
    "id": "v0Dp0UJZ2_-7"
   },
   "source": [
    "Now, let's increase a bit the number of points in the sample. You will see that the calculation will be much slower."
   ]
  },
  {
   "cell_type": "code",
   "execution_count": 45,
   "metadata": {
    "colab": {
     "base_uri": "https://localhost:8080/",
     "height": 68
    },
    "id": "JJUyabLEApr0",
    "outputId": "636aff06-68e4-43af-9f45-9eaf1e757b4b"
   },
   "outputs": [
    {
     "data": {
      "text/plain": [
       "(array([-0.44920338, -0.56511631]),\n",
       " array([-0.44898103, -0.56547034]),\n",
       " 0.0004180596716534414)"
      ]
     },
     "execution_count": 45,
     "metadata": {},
     "output_type": "execute_result"
    }
   ],
   "source": [
    "points = np.random.uniform((-1,-1), (1,1), (2000,2))\n",
    "closest(points)"
   ]
  },
  {
   "cell_type": "code",
   "execution_count": 46,
   "metadata": {
    "colab": {
     "base_uri": "https://localhost:8080/",
     "height": 34
    },
    "id": "HkIm_2BgA2sM",
    "outputId": "ca54a6c7-beeb-450b-d92d-9fab8185d922"
   },
   "outputs": [
    {
     "name": "stdout",
     "output_type": "stream",
     "text": [
      "996 ms ± 12.2 ms per loop (mean ± std. dev. of 7 runs, 1 loop each)\n"
     ]
    }
   ],
   "source": [
    "%timeit closest(points)"
   ]
  },
  {
   "cell_type": "markdown",
   "metadata": {
    "id": "ZOwo4aRj3Ic5"
   },
   "source": [
    "Since our algorithm is O(NxN), if we go from 10 to 2,000 points, the algorithm will be 200x200 = 40,000 times slower.\n",
    "\n",
    "Now let's try and speed this up with numba's just in time compilation:"
   ]
  },
  {
   "cell_type": "code",
   "execution_count": 47,
   "metadata": {
    "colab": {
     "base_uri": "https://localhost:8080/",
     "height": 266
    },
    "id": "GSBhk2nlA4Zd",
    "outputId": "d07e4955-5295-4124-ec5d-1ab61cfcfada"
   },
   "outputs": [
    {
     "data": {
      "text/plain": [
       "(array([-0.44920338, -0.56511631]),\n",
       " array([-0.44898103, -0.56547034]),\n",
       " 0.0004180596716534414)"
      ]
     },
     "execution_count": 47,
     "metadata": {},
     "output_type": "execute_result"
    }
   ],
   "source": [
    "c_closest = njit(closest)\n",
    "c_closest(points)"
   ]
  },
  {
   "cell_type": "code",
   "execution_count": 48,
   "metadata": {
    "colab": {
     "base_uri": "https://localhost:8080/",
     "height": 68
    },
    "id": "5b5vaFXbEGCe",
    "outputId": "e4bcb82c-aebf-41df-9309-3d2e14c334cc"
   },
   "outputs": [
    {
     "data": {
      "text/plain": [
       "(array([-0.44920338, -0.56511631]),\n",
       " array([-0.44898103, -0.56547034]),\n",
       " 0.0004180596716534414)"
      ]
     },
     "execution_count": 48,
     "metadata": {},
     "output_type": "execute_result"
    }
   ],
   "source": [
    "c_closest(points)"
   ]
  },
  {
   "cell_type": "code",
   "execution_count": 49,
   "metadata": {
    "colab": {
     "base_uri": "https://localhost:8080/",
     "height": 34
    },
    "id": "xaWTpO4dEIP1",
    "outputId": "506cf6b8-0638-4886-84c5-69ae7f555052"
   },
   "outputs": [
    {
     "name": "stdout",
     "output_type": "stream",
     "text": [
      "1.01 s ± 39 ms per loop (mean ± std. dev. of 7 runs, 1 loop each)\n"
     ]
    }
   ],
   "source": [
    "%timeit closest(points)"
   ]
  },
  {
   "cell_type": "code",
   "execution_count": 50,
   "metadata": {
    "colab": {
     "base_uri": "https://localhost:8080/",
     "height": 34
    },
    "id": "ohpaXF80LCE0",
    "outputId": "b2daf05f-e968-4107-c191-21e715316c34"
   },
   "outputs": [
    {
     "name": "stdout",
     "output_type": "stream",
     "text": [
      "10.1 ms ± 891 µs per loop (mean ± std. dev. of 7 runs, 100 loops each)\n"
     ]
    }
   ],
   "source": [
    "%timeit c_closest(points)"
   ]
  },
  {
   "cell_type": "markdown",
   "metadata": {
    "id": "Z4uXBrNe_Kv5"
   },
   "source": [
    "Again, the compiled code is 100 times faster!"
   ]
  },
  {
   "cell_type": "markdown",
   "metadata": {},
   "source": [
    "# Exercises"
   ]
  },
  {
   "cell_type": "markdown",
   "metadata": {
    "slideshow": {
     "slide_type": "slide"
    }
   },
   "source": [
    "## Q1: The stock market\n",
    "\n",
    "A Markov Chain is defined as a sequence of random variables where a parameter depends *only* on the preceding value. This is a crucial tool in statistics, widely used in science and beyond (economics for instance).\n",
    "\n",
    "For instance, the stock market has phases of growing prices (bull), dreasing prices (bear) and recession. This would be a Marov Chain model:\n",
    "\n",
    "![](https://upload.wikimedia.org/wikipedia/commons/thumb/9/95/Finance_Markov_chain_example_state_space.svg/400px-Finance_Markov_chain_example_state_space.svg.png)\n",
    "\n",
    "where the numbers on the arrows indicate the probabily that the next day will be in a given state.\n",
    "\n",
    "Your task is to simulate the stock market according to this rule. Start from a random state and simulate many many  iterations. If your code is right, the fraction of days in each state should converge. \n",
    "\n",
    "Implement a pure-python version and a numba version, and compare speeds. \n"
   ]
  },
  {
   "cell_type": "code",
   "execution_count": 47,
   "metadata": {},
   "outputs": [],
   "source": [
    "import random\n",
    "import numpy as np\n",
    "\n",
    "states = [\"bull\",\"bear\",\"stagnant\"]\n",
    "N_DAYS = int(1e7)\n",
    "probs = np.array([[0.9,0.975,1],[0.15,0.85,1],[0.25,0.5,1]])\n",
    "#days_in[current_state] += 1\n",
    "def markov_chain(probs, n_states=3, N = 10000):\n",
    "    days_in = np.zeros(n_states)\n",
    "    parziali = []\n",
    "    parziali_x = []\n",
    "    current_state = random.randint(0,n_states-1)\n",
    "    for k in range(N):\n",
    "        #print(\"current_state\", current_state)\n",
    "        prob_next = random.random()\n",
    "        #print(\"prob next\", prob_next)\n",
    "        next_state = 0\n",
    "        while prob_next > probs[current_state][next_state]:\n",
    "            next_state += 1\n",
    "        current_state = next_state\n",
    "        days_in[current_state] += 1\n",
    "        #print(\"current_state\", current_state)\n",
    "        if k % 10 == 0 and k != 0:\n",
    "            parziali_x.append(k)\n",
    "            parziali.append(days_in/k)\n",
    "    return parziali_x, parziali, days_in"
   ]
  },
  {
   "cell_type": "code",
   "execution_count": 48,
   "metadata": {},
   "outputs": [
    {
     "name": "stdout",
     "output_type": "stream",
     "text": [
      "The slowest run took 5.35 times longer than the fastest. This could mean that an intermediate result is being cached.\n",
      "43.4 s ± 33.4 s per loop (mean ± std. dev. of 7 runs, 1 loop each)\n"
     ]
    }
   ],
   "source": [
    "%timeit parziali_x, parziali, days_in = markov_chain(probs, N = N_DAYS)"
   ]
  },
  {
   "cell_type": "code",
   "execution_count": 49,
   "metadata": {},
   "outputs": [],
   "source": [
    "import numba\n",
    "\n",
    "@numba.njit\n",
    "def markov_chain(probs, n_states=3, N = 10000):\n",
    "    days_in = np.zeros(n_states)\n",
    "    parziali = []\n",
    "    parziali_x = []\n",
    "    current_state = random.randint(0,n_states-1)\n",
    "    for k in range(N):\n",
    "        #print(\"current_state\", current_state)\n",
    "        prob_next = random.random()\n",
    "        #print(\"prob next\", prob_next)\n",
    "        next_state = 0\n",
    "        while prob_next > probs[current_state][next_state]:\n",
    "            next_state += 1\n",
    "        current_state = next_state\n",
    "        days_in[current_state] += 1\n",
    "        #print(\"current_state\", current_state)\n",
    "        if k % 10 == 0 and k != 0:\n",
    "            parziali_x.append(k)\n",
    "            parziali.append(days_in/k)\n",
    "    return parziali_x, parziali, days_in"
   ]
  },
  {
   "cell_type": "code",
   "execution_count": 50,
   "metadata": {},
   "outputs": [
    {
     "name": "stdout",
     "output_type": "stream",
     "text": [
      "1.52 s ± 227 ms per loop (mean ± std. dev. of 7 runs, 1 loop each)\n"
     ]
    }
   ],
   "source": [
    "%timeit parziali_x, parziali, days_in = markov_chain(probs, N = N_DAYS)"
   ]
  },
  {
   "cell_type": "code",
   "execution_count": 52,
   "metadata": {},
   "outputs": [
    {
     "data": {
      "image/png": "[encoded data removed]",
      "text/plain": [
       "<Figure size 640x480 with 1 Axes>"
      ]
     },
     "metadata": {},
     "output_type": "display_data"
    }
   ],
   "source": [
    "import matplotlib.pyplot as plt\n",
    "plt.plot(parziali_x, parziali, label=states)\n",
    "plt.legend(fontsize=16, loc=(0.59,0.39))\n",
    "plt.xscale(\"log\")\n",
    "plt.title(\"Markov chain simulation\\nof the stock market\", fontsize=22)\n",
    "plt.xlabel(\"days\", fontsize=18)\n",
    "plt.ylabel(\"fraction spent in a state\", fontsize=18)\n",
    "plt.xticks(fontsize=18)\n",
    "plt.yticks(fontsize=18)\n",
    "plt.grid()\n",
    "plt.show()"
   ]
  },
  {
   "cell_type": "markdown",
   "metadata": {},
   "source": [
    "## Q2: Consistent plotting\n",
    "\n",
    "(This is about dectorators, not numba)\n",
    "\n",
    "Write a decorator for the plots of all your papers. For instance, you could use it to initialize a matplotlib figure with the options that you like the most and save it to pdf. This will ensure all plots have the same style/fontsize/etc. All you'll need to do is adding `@myplot` to the relevant plotting functions. \n",
    "    \n",
    "The decorator that I use for my papers is available in my [skywalker](https://github.com/dgerosa/skywalker) python module.  "
   ]
  },
  {
   "cell_type": "code",
   "execution_count": null,
   "metadata": {},
   "outputs": [],
   "source": []
  }
 ],
 "metadata": {
  "accelerator": "GPU",
  "colab": {
   "name": "numba_intro.ipynb",
   "provenance": []
  },
  "kernelspec": {
   "display_name": "Python 3 (ipykernel)",
   "language": "python",
   "name": "python3"
  },
  "language_info": {
   "codemirror_mode": {
    "name": "ipython",
    "version": 3
   },
   "file_extension": ".py",
   "mimetype": "text/x-python",
   "name": "python",
   "nbconvert_exporter": "python",
   "pygments_lexer": "ipython3",
   "version": "3.8.10"
  }
 },
 "nbformat": 4,
 "nbformat_minor": 1
}
